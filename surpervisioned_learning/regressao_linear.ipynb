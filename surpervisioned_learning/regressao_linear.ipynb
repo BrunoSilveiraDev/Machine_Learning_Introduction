{
 "cells": [
  {
   "cell_type": "code",
   "execution_count": 8,
   "metadata": {},
   "outputs": [
    {
     "data": {
      "text/html": [
       "<div>\n",
       "<style scoped>\n",
       "    .dataframe tbody tr th:only-of-type {\n",
       "        vertical-align: middle;\n",
       "    }\n",
       "\n",
       "    .dataframe tbody tr th {\n",
       "        vertical-align: top;\n",
       "    }\n",
       "\n",
       "    .dataframe thead th {\n",
       "        text-align: right;\n",
       "    }\n",
       "</style>\n",
       "<table border=\"1\" class=\"dataframe\">\n",
       "  <thead>\n",
       "    <tr style=\"text-align: right;\">\n",
       "      <th></th>\n",
       "      <th>movieId</th>\n",
       "      <th>Titulo</th>\n",
       "      <th>Investimento (em milhoes)</th>\n",
       "      <th>Bilheteria (pessoas)</th>\n",
       "    </tr>\n",
       "  </thead>\n",
       "  <tbody>\n",
       "    <tr>\n",
       "      <th>0</th>\n",
       "      <td>1</td>\n",
       "      <td>Toy Story (1995)</td>\n",
       "      <td>11.048216</td>\n",
       "      <td>5623234.602</td>\n",
       "    </tr>\n",
       "    <tr>\n",
       "      <th>1</th>\n",
       "      <td>2</td>\n",
       "      <td>Jumanji (1995)</td>\n",
       "      <td>14.927678</td>\n",
       "      <td>5714951.757</td>\n",
       "    </tr>\n",
       "    <tr>\n",
       "      <th>2</th>\n",
       "      <td>3</td>\n",
       "      <td>Grumpier Old Men (1995)</td>\n",
       "      <td>27.114597</td>\n",
       "      <td>9524339.124</td>\n",
       "    </tr>\n",
       "    <tr>\n",
       "      <th>3</th>\n",
       "      <td>4</td>\n",
       "      <td>Waiting to Exhale (1995)</td>\n",
       "      <td>4.994242</td>\n",
       "      <td>6331568.779</td>\n",
       "    </tr>\n",
       "    <tr>\n",
       "      <th>4</th>\n",
       "      <td>5</td>\n",
       "      <td>Father of the Bride Part II (1995)</td>\n",
       "      <td>19.142246</td>\n",
       "      <td>6409617.277</td>\n",
       "    </tr>\n",
       "  </tbody>\n",
       "</table>\n",
       "</div>"
      ],
      "text/plain": [
       "   movieId                              Titulo  Investimento (em milhoes)  \\\n",
       "0        1                    Toy Story (1995)                  11.048216   \n",
       "1        2                      Jumanji (1995)                  14.927678   \n",
       "2        3             Grumpier Old Men (1995)                  27.114597   \n",
       "3        4            Waiting to Exhale (1995)                   4.994242   \n",
       "4        5  Father of the Bride Part II (1995)                  19.142246   \n",
       "\n",
       "   Bilheteria (pessoas)  \n",
       "0           5623234.602  \n",
       "1           5714951.757  \n",
       "2           9524339.124  \n",
       "3           6331568.779  \n",
       "4           6409617.277  "
      ]
     },
     "execution_count": 8,
     "metadata": {},
     "output_type": "execute_result"
    }
   ],
   "source": [
    "import pandas as pd\n",
    "import matplotlib.pyplot as plt\n",
    "%matplotlib inline\n",
    "\n",
    "uri = \"datasets/regressao_linear.csv\"\n",
    "movies = pd.read_csv(uri)\n",
    "movies.head()\n",
    "# type(movies) #para ver o que é"
   ]
  },
  {
   "cell_type": "code",
   "execution_count": 15,
   "metadata": {
    "scrolled": true
   },
   "outputs": [
    {
     "data": {
      "image/png": "[encoded data removed]",
      "text/plain": [
       "<Figure size 432x288 with 1 Axes>"
      ]
     },
     "metadata": {
      "needs_background": "light"
     },
     "output_type": "display_data"
    }
   ],
   "source": [
    "x = movies['Investimento (em milhoes)']\n",
    "y = movies['Bilheteria (pessoas)']\n",
    "plt.scatter(x,y)\n",
    "#plt.show() #no terminal"
   ]
  },
  {
   "cell_type": "code",
   "execution_count": 21,
   "metadata": {
    "scrolled": true
   },
   "outputs": [
    {
     "data": {
      "text/html": [
       "<div>\n",
       "<style scoped>\n",
       "    .dataframe tbody tr th:only-of-type {\n",
       "        vertical-align: middle;\n",
       "    }\n",
       "\n",
       "    .dataframe tbody tr th {\n",
       "        vertical-align: top;\n",
       "    }\n",
       "\n",
       "    .dataframe thead th {\n",
       "        text-align: right;\n",
       "    }\n",
       "</style>\n",
       "<table border=\"1\" class=\"dataframe\">\n",
       "  <thead>\n",
       "    <tr style=\"text-align: right;\">\n",
       "      <th></th>\n",
       "      <th>movieId</th>\n",
       "      <th>Titulo</th>\n",
       "      <th>Investimento (em milhoes)</th>\n",
       "      <th>Bilheteria (pessoas)</th>\n",
       "    </tr>\n",
       "  </thead>\n",
       "  <tbody>\n",
       "    <tr>\n",
       "      <th>2628</th>\n",
       "      <td>3272</td>\n",
       "      <td>Bad Lieutenant (1992)</td>\n",
       "      <td>18.024925</td>\n",
       "      <td>5.528864e+06</td>\n",
       "    </tr>\n",
       "    <tr>\n",
       "      <th>1304</th>\n",
       "      <td>1640</td>\n",
       "      <td>How to Be a Player (1997)</td>\n",
       "      <td>18.595718</td>\n",
       "      <td>6.702635e+06</td>\n",
       "    </tr>\n",
       "    <tr>\n",
       "      <th>415</th>\n",
       "      <td>467</td>\n",
       "      <td>Live Nude Girls (1995)</td>\n",
       "      <td>9.982535</td>\n",
       "      <td>6.520319e+06</td>\n",
       "    </tr>\n",
       "    <tr>\n",
       "      <th>209</th>\n",
       "      <td>237</td>\n",
       "      <td>Forget Paris (1995)</td>\n",
       "      <td>12.248660</td>\n",
       "      <td>6.421143e+06</td>\n",
       "    </tr>\n",
       "    <tr>\n",
       "      <th>4358</th>\n",
       "      <td>5876</td>\n",
       "      <td>Quiet American, The (2002)</td>\n",
       "      <td>43.115587</td>\n",
       "      <td>1.033419e+07</td>\n",
       "    </tr>\n",
       "  </tbody>\n",
       "</table>\n",
       "</div>"
      ],
      "text/plain": [
       "      movieId                      Titulo  Investimento (em milhoes)  \\\n",
       "2628     3272       Bad Lieutenant (1992)                  18.024925   \n",
       "1304     1640   How to Be a Player (1997)                  18.595718   \n",
       "415       467      Live Nude Girls (1995)                   9.982535   \n",
       "209       237         Forget Paris (1995)                  12.248660   \n",
       "4358     5876  Quiet American, The (2002)                  43.115587   \n",
       "\n",
       "      Bilheteria (pessoas)  \n",
       "2628          5.528864e+06  \n",
       "1304          6.702635e+06  \n",
       "415           6.520319e+06  \n",
       "209           6.421143e+06  \n",
       "4358          1.033419e+07  "
      ]
     },
     "execution_count": 21,
     "metadata": {},
     "output_type": "execute_result"
    }
   ],
   "source": [
    "sample = movies.sample(n=200) # pega duzendo linhas aleatórias\n",
    "# print(sample)\n",
    "sample.head()"
   ]
  },
  {
   "cell_type": "code",
   "execution_count": 34,
   "metadata": {},
   "outputs": [
    {
     "name": "stdout",
     "output_type": "stream",
     "text": [
      "AxesSubplot(0.125,0.125;0.775x0.755)\n"
     ]
    },
    {
     "data": {
      "image/png": "[encoded data removed]",
      "text/plain": [
       "<Figure size 432x288 with 1 Axes>"
      ]
     },
     "metadata": {
      "needs_background": "light"
     },
     "output_type": "display_data"
    }
   ],
   "source": [
    "# usando seaborn pra visualizar\n",
    "import seaborn as sns\n",
    "\n",
    "x = sample['Investimento (em milhoes)']\n",
    "y = sample['Bilheteria (pessoas)']\n",
    "visualizacao = sns.scatterplot(x='Investimento (em milhoes)', y='Bilheteria (pessoas)', data=sample)\n",
    "#print(visualizacao) #caso no terminal"
   ]
  },
  {
   "cell_type": "code",
   "execution_count": 30,
   "metadata": {},
   "outputs": [
    {
     "data": {
      "text/plain": [
       "<matplotlib.collections.PathCollection at 0x1c4ccf9eac8>"
      ]
     },
     "execution_count": 30,
     "metadata": {},
     "output_type": "execute_result"
    },
    {
     "data": {
      "image/png": "[encoded data removed]",
      "text/plain": [
       "<Figure size 432x288 with 1 Axes>"
      ]
     },
     "metadata": {
      "needs_background": "light"
     },
     "output_type": "display_data"
    }
   ],
   "source": [
    "# usando o pyplot pra visualizar (quase a mesma coisa, mas prefiro usar o seaborn)\n",
    "\n",
    "x = sample['Investimento (em milhoes)']\n",
    "y = sample['Bilheteria (pessoas)']\n",
    "plt.scatter(x,y)\n",
    "# plt.show() #caso esteja no terminal"
   ]
  },
  {
   "cell_type": "code",
   "execution_count": null,
   "metadata": {},
   "outputs": [],
   "source": []
  }
 ],
 "metadata": {
  "kernelspec": {
   "display_name": "Python 3",
   "language": "python",
   "name": "python3"
  },
  "language_info": {
   "codemirror_mode": {
    "name": "ipython",
    "version": 3
   },
   "file_extension": ".py",
   "mimetype": "text/x-python",
   "name": "python",
   "nbconvert_exporter": "python",
   "pygments_lexer": "ipython3",
   "version": "3.6.8"
  }
 },
 "nbformat": 4,
 "nbformat_minor": 2
}
