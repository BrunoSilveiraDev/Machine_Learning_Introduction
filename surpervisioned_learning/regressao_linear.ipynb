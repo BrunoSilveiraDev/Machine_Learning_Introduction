{
 "cells": [
  {
   "cell_type": "code",
   "execution_count": 2,
   "metadata": {},
   "outputs": [
    {
     "data": {
      "text/html": [
       "<div>\n",
       "<style scoped>\n",
       "    .dataframe tbody tr th:only-of-type {\n",
       "        vertical-align: middle;\n",
       "    }\n",
       "\n",
       "    .dataframe tbody tr th {\n",
       "        vertical-align: top;\n",
       "    }\n",
       "\n",
       "    .dataframe thead th {\n",
       "        text-align: right;\n",
       "    }\n",
       "</style>\n",
       "<table border=\"1\" class=\"dataframe\">\n",
       "  <thead>\n",
       "    <tr style=\"text-align: right;\">\n",
       "      <th></th>\n",
       "      <th>movieId</th>\n",
       "      <th>Titulo</th>\n",
       "      <th>Investimento (em milhoes)</th>\n",
       "      <th>Bilheteria (pessoas)</th>\n",
       "    </tr>\n",
       "  </thead>\n",
       "  <tbody>\n",
       "    <tr>\n",
       "      <th>0</th>\n",
       "      <td>1</td>\n",
       "      <td>Toy Story (1995)</td>\n",
       "      <td>11.048216</td>\n",
       "      <td>5623234.602</td>\n",
       "    </tr>\n",
       "    <tr>\n",
       "      <th>1</th>\n",
       "      <td>2</td>\n",
       "      <td>Jumanji (1995)</td>\n",
       "      <td>14.927678</td>\n",
       "      <td>5714951.757</td>\n",
       "    </tr>\n",
       "    <tr>\n",
       "      <th>2</th>\n",
       "      <td>3</td>\n",
       "      <td>Grumpier Old Men (1995)</td>\n",
       "      <td>27.114597</td>\n",
       "      <td>9524339.124</td>\n",
       "    </tr>\n",
       "    <tr>\n",
       "      <th>3</th>\n",
       "      <td>4</td>\n",
       "      <td>Waiting to Exhale (1995)</td>\n",
       "      <td>4.994242</td>\n",
       "      <td>6331568.779</td>\n",
       "    </tr>\n",
       "    <tr>\n",
       "      <th>4</th>\n",
       "      <td>5</td>\n",
       "      <td>Father of the Bride Part II (1995)</td>\n",
       "      <td>19.142246</td>\n",
       "      <td>6409617.277</td>\n",
       "    </tr>\n",
       "  </tbody>\n",
       "</table>\n",
       "</div>"
      ],
      "text/plain": [
       "   movieId                              Titulo  Investimento (em milhoes)  \\\n",
       "0        1                    Toy Story (1995)                  11.048216   \n",
       "1        2                      Jumanji (1995)                  14.927678   \n",
       "2        3             Grumpier Old Men (1995)                  27.114597   \n",
       "3        4            Waiting to Exhale (1995)                   4.994242   \n",
       "4        5  Father of the Bride Part II (1995)                  19.142246   \n",
       "\n",
       "   Bilheteria (pessoas)  \n",
       "0           5623234.602  \n",
       "1           5714951.757  \n",
       "2           9524339.124  \n",
       "3           6331568.779  \n",
       "4           6409617.277  "
      ]
     },
     "execution_count": 2,
     "metadata": {},
     "output_type": "execute_result"
    }
   ],
   "source": [
    "import pandas as pd\n",
    "import matplotlib.pyplot as plt\n",
    "%matplotlib inline\n",
    "\n",
    "uri = \"datasets/regressao_linear.csv\"\n",
    "movies = pd.read_csv(uri)\n",
    "movies.head()\n",
    "# type(movies) #para ver o que é"
   ]
  },
  {
   "cell_type": "code",
   "execution_count": 3,
   "metadata": {
    "scrolled": true
   },
   "outputs": [
    {
     "data": {
      "text/plain": [
       "<matplotlib.collections.PathCollection at 0x15f46d2c5f8>"
      ]
     },
     "execution_count": 3,
     "metadata": {},
     "output_type": "execute_result"
    },
    {
     "data": {
      "image/png": "[encoded data removed]",
      "text/plain": [
       "<Figure size 432x288 with 1 Axes>"
      ]
     },
     "metadata": {
      "needs_background": "light"
     },
     "output_type": "display_data"
    }
   ],
   "source": [
    "x = movies['Investimento (em milhoes)']\n",
    "y = movies['Bilheteria (pessoas)']\n",
    "plt.scatter(x,y)\n",
    "#plt.show() #no terminal"
   ]
  },
  {
   "cell_type": "code",
   "execution_count": 4,
   "metadata": {
    "scrolled": true
   },
   "outputs": [
    {
     "data": {
      "text/html": [
       "<div>\n",
       "<style scoped>\n",
       "    .dataframe tbody tr th:only-of-type {\n",
       "        vertical-align: middle;\n",
       "    }\n",
       "\n",
       "    .dataframe tbody tr th {\n",
       "        vertical-align: top;\n",
       "    }\n",
       "\n",
       "    .dataframe thead th {\n",
       "        text-align: right;\n",
       "    }\n",
       "</style>\n",
       "<table border=\"1\" class=\"dataframe\">\n",
       "  <thead>\n",
       "    <tr style=\"text-align: right;\">\n",
       "      <th></th>\n",
       "      <th>movieId</th>\n",
       "      <th>Titulo</th>\n",
       "      <th>Investimento (em milhoes)</th>\n",
       "      <th>Bilheteria (pessoas)</th>\n",
       "    </tr>\n",
       "  </thead>\n",
       "  <tbody>\n",
       "    <tr>\n",
       "      <th>6174</th>\n",
       "      <td>34129</td>\n",
       "      <td>Rebound (2005)</td>\n",
       "      <td>9.957382</td>\n",
       "      <td>7502442.317</td>\n",
       "    </tr>\n",
       "    <tr>\n",
       "      <th>2471</th>\n",
       "      <td>3075</td>\n",
       "      <td>Repulsion (1965)</td>\n",
       "      <td>3.852112</td>\n",
       "      <td>5583590.991</td>\n",
       "    </tr>\n",
       "    <tr>\n",
       "      <th>801</th>\n",
       "      <td>992</td>\n",
       "      <td>Rich Man's Wife, The (1996)</td>\n",
       "      <td>32.599173</td>\n",
       "      <td>8462824.898</td>\n",
       "    </tr>\n",
       "    <tr>\n",
       "      <th>4715</th>\n",
       "      <td>6593</td>\n",
       "      <td>Freaky Friday (2003)</td>\n",
       "      <td>4.238629</td>\n",
       "      <td>6412961.312</td>\n",
       "    </tr>\n",
       "    <tr>\n",
       "      <th>7559</th>\n",
       "      <td>78574</td>\n",
       "      <td>Winter's Bone (2010)</td>\n",
       "      <td>6.013676</td>\n",
       "      <td>5543317.485</td>\n",
       "    </tr>\n",
       "  </tbody>\n",
       "</table>\n",
       "</div>"
      ],
      "text/plain": [
       "      movieId                       Titulo  Investimento (em milhoes)  \\\n",
       "6174    34129               Rebound (2005)                   9.957382   \n",
       "2471     3075             Repulsion (1965)                   3.852112   \n",
       "801       992  Rich Man's Wife, The (1996)                  32.599173   \n",
       "4715     6593         Freaky Friday (2003)                   4.238629   \n",
       "7559    78574         Winter's Bone (2010)                   6.013676   \n",
       "\n",
       "      Bilheteria (pessoas)  \n",
       "6174           7502442.317  \n",
       "2471           5583590.991  \n",
       "801            8462824.898  \n",
       "4715           6412961.312  \n",
       "7559           5543317.485  "
      ]
     },
     "execution_count": 4,
     "metadata": {},
     "output_type": "execute_result"
    }
   ],
   "source": [
    "sample = movies.sample(n=200) # smple(amostra) pega duzendo linhas aleatórias\n",
    "# print(sample)\n",
    "sample.head()"
   ]
  },
  {
   "cell_type": "code",
   "execution_count": 5,
   "metadata": {},
   "outputs": [
    {
     "data": {
      "image/png": "[encoded data removed]",
      "text/plain": [
       "<Figure size 432x288 with 1 Axes>"
      ]
     },
     "metadata": {
      "needs_background": "light"
     },
     "output_type": "display_data"
    }
   ],
   "source": [
    "# usando seaborn pra visualizar\n",
    "import seaborn as sns\n",
    "\n",
    "x = sample['Investimento (em milhoes)']\n",
    "y = sample['Bilheteria (pessoas)']\n",
    "visualizacao = sns.scatterplot(x='Investimento (em milhoes)', y='Bilheteria (pessoas)', data=sample)\n",
    "#print(visualizacao) #caso no terminal"
   ]
  },
  {
   "cell_type": "code",
   "execution_count": 6,
   "metadata": {},
   "outputs": [
    {
     "data": {
      "text/plain": [
       "<matplotlib.collections.PathCollection at 0x15f58b12cf8>"
      ]
     },
     "execution_count": 6,
     "metadata": {},
     "output_type": "execute_result"
    },
    {
     "data": {
      "image/png": "[encoded data removed]",
      "text/plain": [
       "<Figure size 432x288 with 1 Axes>"
      ]
     },
     "metadata": {
      "needs_background": "light"
     },
     "output_type": "display_data"
    }
   ],
   "source": [
    "# usando o pyplot pra visualizar (quase a mesma coisa, mas prefiro usar o seaborn)\n",
    "\n",
    "x = sample['Investimento (em milhoes)']\n",
    "y = sample['Bilheteria (pessoas)']\n",
    "plt.scatter(x,y)\n",
    "# plt.show() #caso esteja no terminal"
   ]
  },
  {
   "cell_type": "code",
   "execution_count": 7,
   "metadata": {},
   "outputs": [],
   "source": [
    "# separar dados de treino e dados de teste\n",
    "from sklearn.model_selection import train_test_split\n",
    "\n",
    "investimento = movies['Investimento (em milhoes)']\n",
    "bilheteria = movies['Bilheteria (pessoas)'] \n",
    "\n",
    "x_train, x_test, y_train, y_test = train_test_split(investimento, bilheteria)"
   ]
  },
  {
   "cell_type": "code",
   "execution_count": 8,
   "metadata": {},
   "outputs": [
    {
     "name": "stdout",
     "output_type": "stream",
     "text": [
      "tamanho de x_train =  6843  e tamanho de x_test =  2282\n",
      "o dataset inteiro: 9125\n",
      "x_train: 74.99%\n",
      "x_test: 25.01%\n"
     ]
    }
   ],
   "source": [
    "tam_x_train = len(x_train)\n",
    "tam_x_test = len(x_test)\n",
    "print('tamanho de x_train = ', tam_x_train, ' e tamanho de x_test = ', tam_x_test)\n",
    "print('o dataset inteiro:', tam_x_train + tam_x_test)\n",
    "print('x_train: %.2f%%' % (tam_x_train/len(movies) * 100))\n",
    "print('x_test: %.2f%%' % (tam_x_test/len(movies) * 100))"
   ]
  },
  {
   "cell_type": "code",
   "execution_count": 9,
   "metadata": {},
   "outputs": [
    {
     "name": "stdout",
     "output_type": "stream",
     "text": [
      "[[23.01788029]\n",
      " [ 9.83952754]\n",
      " [ 7.17896728]\n",
      " ...\n",
      " [ 4.79362068]\n",
      " [43.11344543]\n",
      " [30.90435167]]\n"
     ]
    }
   ],
   "source": [
    "import numpy as np\n",
    "\n",
    "#type(x_train) # é Series, quero que ele seja um array, então...\n",
    "\n",
    "x_train = np.array(x_train).reshape(tam_x_train,1)\n",
    "x_test = np.array(x_test).reshape(tam_x_test, 1)\n",
    "y_train = np.array(y_train).reshape(len(y_train),1)\n",
    "y_test = np.array(y_test).reshape(len(y_test),1)\n",
    "\n",
    "#type(x_train)\n",
    "print(x_train)"
   ]
  },
  {
   "cell_type": "code",
   "execution_count": 10,
   "metadata": {},
   "outputs": [
    {
     "data": {
      "text/plain": [
       "LinearRegression(copy_X=True, fit_intercept=True, n_jobs=None,\n",
       "         normalize=False)"
      ]
     },
     "execution_count": 10,
     "metadata": {},
     "output_type": "execute_result"
    }
   ],
   "source": [
    "# criando o modelo\n",
    "#obs.: para entender melhor onde cada package de importação funciona, as importações não estão no inicio.\n",
    "from sklearn.linear_model import LinearRegression\n",
    "\n",
    "model = LinearRegression()\n",
    "model.fit(x_train, y_train)\n"
   ]
  },
  {
   "cell_type": "code",
   "execution_count": 11,
   "metadata": {},
   "outputs": [
    {
     "data": {
      "text/plain": [
       "array([5071357.93559423])"
      ]
     },
     "execution_count": 11,
     "metadata": {},
     "output_type": "execute_result"
    }
   ],
   "source": [
    "# interceptação\n",
    "model.intercept_"
   ]
  },
  {
   "cell_type": "code",
   "execution_count": 12,
   "metadata": {
    "scrolled": true
   },
   "outputs": [
    {
     "data": {
      "text/plain": [
       "array([[98133.24910466]])"
      ]
     },
     "execution_count": 12,
     "metadata": {},
     "output_type": "execute_result"
    }
   ],
   "source": [
    "# coeficiente\n",
    "model.coef_"
   ]
  },
  {
   "cell_type": "code",
   "execution_count": 13,
   "metadata": {},
   "outputs": [
    {
     "data": {
      "text/plain": [
       "array([[7794022.10272771]])"
      ]
     },
     "execution_count": 13,
     "metadata": {},
     "output_type": "execute_result"
    }
   ],
   "source": [
    "# quanto seria a bilheteria do filme zootopia, com investimento =  27.74456356 ?\n",
    "n = [[27.74456356]]\n",
    "model.predict(n)"
   ]
  },
  {
   "cell_type": "code",
   "execution_count": 14,
   "metadata": {},
   "outputs": [
    {
     "data": {
      "text/plain": [
       "array([[7794022.10272771]])"
      ]
     },
     "execution_count": 14,
     "metadata": {},
     "output_type": "execute_result"
    }
   ],
   "source": [
    "# a equação da reta (o filme Zootopia) \n",
    "model.coef_ * 27.74456356 + model.intercept_  \n",
    "# o mesmo valor da predição\n",
    "# mas falta ver as métricas verificar esses valores"
   ]
  },
  {
   "cell_type": "code",
   "execution_count": 15,
   "metadata": {},
   "outputs": [
    {
     "data": {
      "text/plain": [
       "6690854.113302645"
      ]
     },
     "execution_count": 15,
     "metadata": {},
     "output_type": "execute_result"
    }
   ],
   "source": [
    "np.mean(y_train)"
   ]
  },
  {
   "cell_type": "code",
   "execution_count": 16,
   "metadata": {},
   "outputs": [
    {
     "data": {
      "text/plain": [
       "0.5333816592362719"
      ]
     },
     "execution_count": 16,
     "metadata": {},
     "output_type": "execute_result"
    }
   ],
   "source": [
    "model.score(x_train, y_train)"
   ]
  }
 ],
 "metadata": {
  "kernelspec": {
   "display_name": "Python 3",
   "language": "python",
   "name": "python3"
  },
  "language_info": {
   "codemirror_mode": {
    "name": "ipython",
    "version": 3
   },
   "file_extension": ".py",
   "mimetype": "text/x-python",
   "name": "python",
   "nbconvert_exporter": "python",
   "pygments_lexer": "ipython3",
   "version": "3.6.8"
  }
 },
 "nbformat": 4,
 "nbformat_minor": 2
}
