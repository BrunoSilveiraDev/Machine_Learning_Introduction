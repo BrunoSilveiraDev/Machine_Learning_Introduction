{
 "cells": [
  {
   "cell_type": "code",
   "execution_count": 1,
   "metadata": {},
   "outputs": [
    {
     "data": {
      "text/plain": [
       "Counter({1: 543, 0: 135})"
      ]
     },
     "execution_count": 1,
     "metadata": {},
     "output_type": "execute_result"
    }
   ],
   "source": [
    "import pandas as pd\n",
    "from collections import Counter\n",
    "\n",
    "uri = 'datasets/avaliacoes_usuario.csv'\n",
    "dataset = pd.read_csv(uri)\n",
    "# dataset.head()\n",
    "Counter(dataset['Gostou'])"
   ]
  },
  {
   "cell_type": "code",
   "execution_count": 2,
   "metadata": {},
   "outputs": [
    {
     "name": "stdout",
     "output_type": "stream",
     "text": [
      "80.09% dos usuários gostaram do filme.\n"
     ]
    }
   ],
   "source": [
    "# ou seja...\n",
    "print('%.2f%% dos usuários gostaram do filme.' % ((543/(135+543))*100))"
   ]
  },
  {
   "cell_type": "code",
   "execution_count": 3,
   "metadata": {},
   "outputs": [
    {
     "name": "stdout",
     "output_type": "stream",
     "text": [
      "19.91% dos usuários NÃO gostaram do filme.\n"
     ]
    }
   ],
   "source": [
    "print('%.2f%% dos usuários NÃO gostaram do filme.' % ((135/(135+543))*100))"
   ]
  },
  {
   "cell_type": "code",
   "execution_count": 4,
   "metadata": {},
   "outputs": [
    {
     "data": {
      "text/plain": [
       "Counter({1: 414, 0: 94})"
      ]
     },
     "execution_count": 4,
     "metadata": {},
     "output_type": "execute_result"
    }
   ],
   "source": [
    "from sklearn.model_selection import train_test_split\n",
    "\n",
    "x = dataset[dataset.columns[1:16]]\n",
    "y = dataset[dataset.columns[16:]]\n",
    "\n",
    "x_train, x_test, y_train, y_test = train_test_split(x, y)\n",
    "Counter(x_train['Documentary']) # sabe quantos filmes são documentários\n",
    "Counter(y_train['Gostou'])\n",
    "# os dados estão próximos..."
   ]
  },
  {
   "cell_type": "code",
   "execution_count": 5,
   "metadata": {},
   "outputs": [],
   "source": [
    "type(x_train) # todos precisam ser arrays\n",
    "\n",
    "import numpy as np\n",
    "\n",
    "x_train = np.array(x_train).reshape(len(x_train), 15)\n",
    "x_test = np.array(x_test).reshape(len(x_test), 15)\n",
    "\n",
    "# para visualizar...\n",
    "# type(x_train)\n",
    "# x_train.shape\n"
   ]
  },
  {
   "cell_type": "code",
   "execution_count": 6,
   "metadata": {},
   "outputs": [],
   "source": [
    "y_train = y_train.values.ravel()\n",
    "y_test = y_test.values.ravel()"
   ]
  },
  {
   "cell_type": "code",
   "execution_count": 7,
   "metadata": {},
   "outputs": [
    {
     "name": "stderr",
     "output_type": "stream",
     "text": [
      "c:\\users\\snow\\appdata\\local\\programs\\python\\python36\\lib\\site-packages\\sklearn\\linear_model\\logistic.py:433: FutureWarning: Default solver will be changed to 'lbfgs' in 0.22. Specify a solver to silence this warning.\n",
      "  FutureWarning)\n"
     ]
    }
   ],
   "source": [
    "from sklearn.linear_model import LogisticRegression\n",
    "\n",
    "model = LogisticRegression()\n",
    "model.fit(x_train, y_train)\n",
    "predicts = model.predict(x_test)"
   ]
  },
  {
   "cell_type": "code",
   "execution_count": 8,
   "metadata": {
    "scrolled": true
   },
   "outputs": [
    {
     "data": {
      "text/plain": [
       "array([1, 1, 1, 0, 0, 1, 1, 1, 1, 1, 1, 1, 1, 1, 1, 1, 1, 0, 1, 1, 1, 1,\n",
       "       1, 1, 1, 1, 1, 1, 1, 1, 1, 1, 1, 1, 1, 1, 1, 1, 1, 1, 1, 1, 1, 1,\n",
       "       1, 1, 1, 1, 1, 1, 1, 1, 1, 1, 1, 1, 1, 0, 1, 1, 1, 1, 1, 1, 1, 1,\n",
       "       1, 1, 1, 1, 1, 1, 1, 1, 1, 1, 1, 1, 1, 1, 1, 1, 1, 1, 1, 1, 1, 1,\n",
       "       1, 1, 1, 1, 1, 1, 1, 1, 1, 1, 1, 1, 1, 1, 1, 1, 1, 1, 1, 1, 1, 1,\n",
       "       1, 1, 1, 1, 1, 1, 1, 1, 1, 1, 1, 1, 1, 1, 1, 1, 1, 1, 1, 1, 1, 1,\n",
       "       1, 1, 1, 1, 1, 1, 1, 1, 1, 1, 1, 1, 1, 1, 1, 1, 1, 1, 1, 1, 1, 1,\n",
       "       1, 1, 1, 1, 1, 1, 1, 1, 1, 1, 1, 1, 1, 1, 1, 1], dtype=int64)"
      ]
     },
     "execution_count": 8,
     "metadata": {},
     "output_type": "execute_result"
    }
   ],
   "source": [
    "predicts"
   ]
  },
  {
   "cell_type": "code",
   "execution_count": 9,
   "metadata": {},
   "outputs": [
    {
     "name": "stdout",
     "output_type": "stream",
     "text": [
      "Acurácia: 73.53%\n"
     ]
    }
   ],
   "source": [
    "from sklearn.metrics import accuracy_score\n",
    "\n",
    "accuracy = accuracy_score(y_test, predicts)\n",
    "print('Acurácia: %.2f%%' % (accuracy*100))"
   ]
  },
  {
   "cell_type": "code",
   "execution_count": 10,
   "metadata": {},
   "outputs": [
    {
     "name": "stdout",
     "output_type": "stream",
     "text": [
      "Acurácia_NB: 72.35%\n"
     ]
    }
   ],
   "source": [
    "from sklearn.naive_bayes import MultinomialNB\n",
    "\n",
    "model_NB = MultinomialNB()\n",
    "model_NB.fit(x_train, y_train)\n",
    "predicts_NB = model_NB.predict(x_test)\n",
    "\n",
    "accuracy_NB = accuracy_score(y_test, predicts_NB)\n",
    "\n",
    "print('Acurácia_NB: %.2f%%' % (accuracy_NB*100))"
   ]
  },
  {
   "cell_type": "code",
   "execution_count": 12,
   "metadata": {},
   "outputs": [
    {
     "name": "stdout",
     "output_type": "stream",
     "text": [
      "     Documentary  Sci-Fi  Mystery  Horror  Romance  Thriller  Crime  Fantasy  \\\n",
      "0              0       0        0       0        0         0      0        0   \n",
      "1              0       0        0       0        1         0      0        0   \n",
      "2              0       0        0       0        1         0      0        0   \n",
      "3              0       0        0       0        0         0      0        0   \n",
      "4              0       0        0       0        1         0      0        0   \n",
      "5              0       0        0       0        0         0      1        0   \n",
      "6              1       0        0       0        0         0      0        0   \n",
      "7              0       0        0       0        0         0      0        0   \n",
      "8              0       0        1       0        0         0      0        0   \n",
      "9              0       0        1       0        0         0      1        0   \n",
      "10             0       0        0       0        1         0      0        0   \n",
      "11             0       0        0       0        1         0      0        0   \n",
      "12             0       0        0       1        0         0      0        0   \n",
      "13             0       0        0       0        0         0      1        0   \n",
      "14             0       0        0       0        1         0      0        0   \n",
      "15             0       0        0       0        0         0      1        0   \n",
      "16             0       0        0       0        0         0      1        0   \n",
      "17             0       0        0       0        0         0      0        0   \n",
      "18             0       0        0       0        0         0      0        0   \n",
      "19             0       0        0       0        0         0      0        0   \n",
      "20             0       0        1       0        0         0      1        0   \n",
      "21             1       0        0       0        0         0      0        0   \n",
      "22             0       0        0       0        0         0      0        0   \n",
      "23             0       0        0       0        1         0      0        0   \n",
      "24             0       0        0       0        1         0      0        0   \n",
      "25             0       0        0       0        0         0      0        0   \n",
      "26             1       0        0       0        0         0      0        0   \n",
      "27             0       0        0       0        0         0      1        0   \n",
      "28             0       0        0       1        0         0      0        0   \n",
      "29             0       1        0       0        0         0      0        0   \n",
      "..           ...     ...      ...     ...      ...       ...    ...      ...   \n",
      "648            0       0        0       0        0         0      0        0   \n",
      "649            0       0        0       0        0         0      0        0   \n",
      "650            0       0        0       0        0         0      0        0   \n",
      "651            0       0        0       0        1         0      0        0   \n",
      "652            0       0        0       0        0         0      0        0   \n",
      "653            0       0        0       0        1         0      0        0   \n",
      "654            0       0        0       1        0         0      0        0   \n",
      "655            0       0        0       0        0         0      0        0   \n",
      "656            1       0        0       0        0         0      0        0   \n",
      "657            1       0        0       0        0         0      0        0   \n",
      "658            0       0        0       0        0         0      0        0   \n",
      "659            0       0        0       0        0         0      1        0   \n",
      "660            0       0        0       0        1         0      0        0   \n",
      "661            0       1        0       0        0         0      0        0   \n",
      "662            0       1        0       0        0         0      0        0   \n",
      "663            0       1        0       0        0         0      0        0   \n",
      "664            0       1        0       0        0         0      0        0   \n",
      "665            0       1        0       0        0         0      0        0   \n",
      "666            0       0        1       1        0         0      0        0   \n",
      "667            0       0        0       1        0         0      0        0   \n",
      "668            0       0        0       0        0         0      0        0   \n",
      "669            0       0        0       0        0         0      1        0   \n",
      "670            0       0        1       0        0         0      0        0   \n",
      "671            0       0        0       0        0         0      0        0   \n",
      "672            0       0        0       0        0         0      0        0   \n",
      "673            0       0        0       0        0         0      1        0   \n",
      "674            0       0        0       0        0         0      0        1   \n",
      "675            0       0        0       0        0         0      1        0   \n",
      "676            0       0        0       0        0         0      0        0   \n",
      "677            0       0        0       0        0         0      0        0   \n",
      "\n",
      "     Comedy  Animation  Children  Drama  Adventure     Duracao  Investimento  \n",
      "0         0          0         0      1          0  114.496547      7.930748  \n",
      "1         0          0         0      1          0  110.140191     18.276555  \n",
      "2         0          0         0      1          0  105.747597     16.582232  \n",
      "3         0          0         1      1          0  126.131978     13.004553  \n",
      "4         0          0         0      1          0   85.025469     14.418120  \n",
      "5         0          0         0      1          0  109.621546     43.760850  \n",
      "6         0          0         0      0          0   81.604253     14.943240  \n",
      "7         1          0         0      1          0  138.637595      6.299150  \n",
      "8         0          0         0      0          0  116.143261      3.795008  \n",
      "9         0          0         0      0          0   84.319613      6.337631  \n",
      "10        1          0         0      1          0  103.812181      6.714769  \n",
      "11        1          0         0      1          0   91.375357     24.316251  \n",
      "12        1          0         0      0          0   99.883739      5.670609  \n",
      "13        0          0         0      1          0  119.376030      7.050147  \n",
      "14        1          0         0      1          0  111.214738      9.564869  \n",
      "15        0          0         0      1          0   84.818368     14.230463  \n",
      "16        0          0         0      1          0  151.361170     25.285663  \n",
      "17        1          0         0      0          0  106.407892     17.878556  \n",
      "18        0          0         0      1          0  115.564351     34.412680  \n",
      "19        0          0         0      1          1  142.386148     12.208072  \n",
      "20        0          0         0      1          0  120.625947     49.212134  \n",
      "21        0          0         0      0          0   99.129692     18.592390  \n",
      "22        1          0         0      1          0  112.808427      3.661504  \n",
      "23        0          0         0      1          0  142.239522     21.617553  \n",
      "24        1          0         0      1          0   78.948162     17.306947  \n",
      "25        1          0         0      1          0  115.157882     20.751885  \n",
      "26        0          0         0      0          0  125.957601      8.878633  \n",
      "27        0          0         0      1          0  120.549757      5.352306  \n",
      "28        0          0         0      1          0  100.056527      6.750254  \n",
      "29        0          0         0      0          1   85.697368     15.415196  \n",
      "..      ...        ...       ...    ...        ...         ...           ...  \n",
      "648       0          0         0      0          1   56.006681      5.368304  \n",
      "649       0          0         0      0          1  101.774599     22.926496  \n",
      "650       0          0         0      1          0  110.030713      7.832110  \n",
      "651       0          0         0      1          0   89.817619     44.861352  \n",
      "652       1          0         0      0          0  107.996021     11.810598  \n",
      "653       1          0         0      0          0   94.877208     24.538227  \n",
      "654       0          0         0      1          0   79.010152     35.020465  \n",
      "655       0          0         0      1          0  147.032094     38.193526  \n",
      "656       0          0         0      0          0  116.190361     17.365236  \n",
      "657       0          0         0      0          0  125.397268     15.844038  \n",
      "658       0          0         0      1          0  106.829426     20.193232  \n",
      "659       0          0         0      1          0   78.488571      9.684573  \n",
      "660       1          0         0      1          0   95.140209      3.636478  \n",
      "661       0          0         0      0          0  124.054719     11.426268  \n",
      "662       0          0         0      1          0  114.320304      5.806250  \n",
      "663       0          0         0      0          1   75.620720      9.419750  \n",
      "664       0          0         0      0          1  103.331081     10.043740  \n",
      "665       0          0         0      0          1  121.323834      6.250091  \n",
      "666       0          0         0      0          0  144.826898     40.282725  \n",
      "667       0          0         0      0          0   80.814425     14.586395  \n",
      "668       0          0         0      1          0  103.619660     18.119768  \n",
      "669       0          0         0      1          0  108.037859      5.784905  \n",
      "670       0          0         0      1          0  125.506826      4.371404  \n",
      "671       0          0         0      1          0   99.210158     12.597088  \n",
      "672       0          0         0      1          0  115.165861      3.978544  \n",
      "673       0          0         0      1          0  113.673158     13.331138  \n",
      "674       1          0         0      0          1  109.976511     10.302770  \n",
      "675       0          0         0      1          0  140.369607     15.216362  \n",
      "676       0          0         0      1          0  124.095814     41.324609  \n",
      "677       1          0         0      1          0   87.231979     25.224405  \n",
      "\n",
      "[678 rows x 15 columns]\n"
     ]
    }
   ],
   "source": [
    "a = dataset[dataset.columns[1:16]]\n",
    "print(a)"
   ]
  }
 ],
 "metadata": {
  "kernelspec": {
   "display_name": "Python 3",
   "language": "python",
   "name": "python3"
  },
  "language_info": {
   "codemirror_mode": {
    "name": "ipython",
    "version": 3
   },
   "file_extension": ".py",
   "mimetype": "text/x-python",
   "name": "python",
   "nbconvert_exporter": "python",
   "pygments_lexer": "ipython3",
   "version": "3.6.8"
  }
 },
 "nbformat": 4,
 "nbformat_minor": 2
}
